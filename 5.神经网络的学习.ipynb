{
 "cells": [
  {
   "cell_type": "markdown",
   "id": "e26c6954-c692-4297-a2dc-932f0b3646a1",
   "metadata": {},
   "source": [
    "### 一. 损失函数"
   ]
  },
  {
   "cell_type": "markdown",
   "id": "bac1ab5c-735b-47fe-8728-197659f717b9",
   "metadata": {},
   "source": [
    "#### 1. 均方误差"
   ]
  },
  {
   "cell_type": "code",
   "execution_count": 1,
   "id": "b6138df5-83b3-4e63-bf6b-2829be59f415",
   "metadata": {},
   "outputs": [],
   "source": [
    "import numpy as np"
   ]
  },
  {
   "cell_type": "code",
   "execution_count": 2,
   "id": "bc941b78-7a07-4904-97b7-a32b3da47fb7",
   "metadata": {},
   "outputs": [],
   "source": [
    "def mean_squared_error(y, t):\n",
    "    return 0.5 * np.sum((y-t)**2)"
   ]
  },
  {
   "cell_type": "code",
   "execution_count": 3,
   "id": "ebf82382-d0db-4b63-8d38-8ffad1d8d950",
   "metadata": {},
   "outputs": [
    {
     "name": "stdout",
     "output_type": "stream",
     "text": [
      "0.09750000000000003\n",
      "0.5975\n"
     ]
    }
   ],
   "source": [
    "# 设\"2\"为正确解\n",
    "t = [0,0,1,0,0,0,0,0,0,0]\n",
    "# 例1，“2”的概率最高的情况(0.6)\n",
    "y = [0.1,0.05,0.6,0.0,0.05,0.1,0.0,0.1,0.0,0.0]\n",
    "e1 = mean_squared_error(np.array(y), np.array(t))\n",
    "print(e1)\n",
    "# 例2，“7”的概率最高的情况(0.6)\n",
    "y = [0.1,0.05,0.1,0.0,0.05,0.1,0.0,0.6,0.0,0.0]\n",
    "e2 = mean_squared_error(np.array(y), np.array(t))\n",
    "print(e2)"
   ]
  },
  {
   "cell_type": "markdown",
   "id": "210055ec-bc64-4c72-a099-ce68e48081b7",
   "metadata": {},
   "source": [
    "#### 2. 交叉熵误差"
   ]
  },
  {
   "cell_type": "code",
   "execution_count": 6,
   "id": "d92bf814-49d5-40e6-82b4-ffc09ed908aa",
   "metadata": {},
   "outputs": [],
   "source": [
    "def cross_entropy_error(y, t):\n",
    "    # np.log(0) 会变成负无穷大的-inf,设置微小值避免这种情况\n",
    "    delta = 1e-7\n",
    "    return -np.sum(t * np.log(y + delta))"
   ]
  },
  {
   "cell_type": "code",
   "execution_count": 7,
   "id": "501943f2-4b72-47b1-aada-705eafb49f65",
   "metadata": {},
   "outputs": [
    {
     "name": "stdout",
     "output_type": "stream",
     "text": [
      "0.510825457099338\n",
      "2.302584092994546\n"
     ]
    }
   ],
   "source": [
    "# 设\"2\"为正确解\n",
    "t = [0,0,1,0,0,0,0,0,0,0]\n",
    "# 例1，“2”的概率最高的情况(0.6)\n",
    "y = [0.1,0.05,0.6,0.0,0.05,0.1,0.0,0.1,0.0,0.0]\n",
    "e1 = cross_entropy_error(np.array(y), np.array(t))\n",
    "print(e1)\n",
    "# 例2，“7”的概率最高的情况(0.6)\n",
    "y = [0.1,0.05,0.1,0.0,0.05,0.1,0.0,0.6,0.0,0.0]\n",
    "e2 = cross_entropy_error(np.array(y), np.array(t))\n",
    "print(e2)"
   ]
  },
  {
   "cell_type": "markdown",
   "id": "9400cc4c-93f5-4e6d-9de9-d5c4714b6d62",
   "metadata": {},
   "source": [
    "### 二. mini-batch 学习"
   ]
  },
  {
   "cell_type": "code",
   "execution_count": 8,
   "id": "fa96336d-6f7c-4648-abe5-c552076af7ec",
   "metadata": {},
   "outputs": [],
   "source": [
    "import numpy as np\n",
    "from mnist import load_mnist  # 从mnist.py导入"
   ]
  },
  {
   "cell_type": "code",
   "execution_count": 9,
   "id": "633d12e0-8c87-40b0-8d4c-bc4a548982c5",
   "metadata": {},
   "outputs": [
    {
     "name": "stdout",
     "output_type": "stream",
     "text": [
      "(60000, 784)\n",
      "(60000, 10)\n"
     ]
    }
   ],
   "source": [
    "(x_train,t_train),(x_test,t_test) = load_mnist(normalize=True, one_hot_label=True)\n",
    "\n",
    "print(x_train.shape)\n",
    "print(t_train.shape)"
   ]
  },
  {
   "cell_type": "code",
   "execution_count": 10,
   "id": "9f66e49a-d95e-403a-a8ea-ece2729100c6",
   "metadata": {},
   "outputs": [],
   "source": [
    "train_size=x_train.shape[0]\n",
    "batch_size=10\n",
    "batch_mask=np.random.choice(train_size, batch_size)\n",
    "x_batch=x_train[batch_mask]\n",
    "t_batch=t_train[batch_mask]"
   ]
  },
  {
   "cell_type": "markdown",
   "id": "88e4196a-162c-4fd9-978a-cc85cd074bfa",
   "metadata": {},
   "source": [
    "np.random.choice(60000, 10)会从0到59999之间随机选择10个数字，我们只需指定这些随机选出的索引，取出mini-batch"
   ]
  },
  {
   "cell_type": "markdown",
   "id": "4b7f427d-1579-4f4c-a547-92408ed42d31",
   "metadata": {},
   "source": [
    "#### mini-batch 版交叉熵误差"
   ]
  },
  {
   "cell_type": "code",
   "execution_count": null,
   "id": "6f6d0e2d-bea4-4ac3-9f17-1ec97489f821",
   "metadata": {},
   "outputs": [],
   "source": [
    "def cross_entropy_error(y, t):\n",
    "    if y.ndim == 1:\n",
    "        t=t.reshape(1, t.size)\n",
    "        y=y.reshape(1, y.size)\n",
    "    batch_size = y.shape[0]\n",
    "    return -np.sum(t*np.log(y+1e-7))/batch_size"
   ]
  },
  {
   "cell_type": "markdown",
   "id": "bab93ae3-aada-4282-89e2-39381d61728c",
   "metadata": {},
   "source": [
    "### 三. 数值微分"
   ]
  },
  {
   "cell_type": "code",
   "execution_count": 11,
   "id": "65c02402-9da8-4083-b270-91affca2b01c",
   "metadata": {},
   "outputs": [],
   "source": [
    "def numerical_diff(f, x):\n",
    "    h = 1e-4 # 0.0001\n",
    "    return (f(x+h) - f(x-h))/(2*h)"
   ]
  },
  {
   "cell_type": "code",
   "execution_count": 12,
   "id": "9f3ed917-01ec-48dd-ba58-bfd58621441a",
   "metadata": {},
   "outputs": [],
   "source": [
    "# 求导y=0.01x^2 + 0.1x\n",
    "def function_1(x):\n",
    "    return 0.01*x**2 + 0.1*x"
   ]
  },
  {
   "cell_type": "code",
   "execution_count": 13,
   "id": "ebc6e99b-3f93-43f3-a55c-574b26a0a92d",
   "metadata": {},
   "outputs": [
    {
     "data": {
      "text/plain": [
       "[<matplotlib.lines.Line2D at 0x7f99c3a1ca60>]"
      ]
     },
     "execution_count": 13,
     "metadata": {},
     "output_type": "execute_result"
    },
    {
     "data": {
      "image/png": "[encoded data removed]",
      "text/plain": [
       "<Figure size 640x480 with 1 Axes>"
      ]
     },
     "metadata": {},
     "output_type": "display_data"
    }
   ],
   "source": [
    "import matplotlib.pylab as plt\n",
    "\n",
    "x = np.arange(0.0, 20.0, 0.1)\n",
    "y = function_1(x)\n",
    "plt.xlabel(\"x\")\n",
    "plt.ylabel(\"f(x)\")\n",
    "plt.plot(x, y)"
   ]
  },
  {
   "cell_type": "code",
   "execution_count": 14,
   "id": "a6fa739e-4ae5-4b05-b797-8d848d57d646",
   "metadata": {},
   "outputs": [
    {
     "data": {
      "text/plain": [
       "0.1999999999990898"
      ]
     },
     "execution_count": 14,
     "metadata": {},
     "output_type": "execute_result"
    }
   ],
   "source": [
    "numerical_diff(function_1, 5)"
   ]
  },
  {
   "cell_type": "code",
   "execution_count": 15,
   "id": "dad10d8f-55c3-46cd-8c4c-5307fcdfbccf",
   "metadata": {},
   "outputs": [
    {
     "data": {
      "text/plain": [
       "0.2999999999986347"
      ]
     },
     "execution_count": 15,
     "metadata": {},
     "output_type": "execute_result"
    }
   ],
   "source": [
    "numerical_diff(function_1, 10)"
   ]
  },
  {
   "cell_type": "markdown",
   "id": "16e8465e-150f-4abd-8fb3-1e32e051aeeb",
   "metadata": {},
   "source": [
    "#### 偏导数"
   ]
  },
  {
   "cell_type": "code",
   "execution_count": 16,
   "id": "783e970d-f577-461b-b1fd-690bc8cc5a45",
   "metadata": {},
   "outputs": [],
   "source": [
    "def function_2(x):\n",
    "    return x[0]**2 + x[1]**2"
   ]
  },
  {
   "cell_type": "markdown",
   "id": "89b863c2-9f99-4b65-ae20-8a8d0896f3a3",
   "metadata": {},
   "source": [
    "求x0=3,x1=4时，关于x0的偏导数"
   ]
  },
  {
   "cell_type": "code",
   "execution_count": 19,
   "id": "4609a776-9c2f-4f59-8035-f2a44da25da6",
   "metadata": {},
   "outputs": [],
   "source": [
    "def function_tmp1(x0):\n",
    "    return x0*x0 + 4.0**2.0"
   ]
  },
  {
   "cell_type": "code",
   "execution_count": 20,
   "id": "ae8249b8-4150-4e85-a191-7a39f1c053db",
   "metadata": {},
   "outputs": [
    {
     "data": {
      "text/plain": [
       "6.00000000000378"
      ]
     },
     "execution_count": 20,
     "metadata": {},
     "output_type": "execute_result"
    }
   ],
   "source": [
    "numerical_diff(function_tmp1, 3)"
   ]
  },
  {
   "cell_type": "markdown",
   "id": "5e803e26-d405-4f3c-af98-84df7e24619c",
   "metadata": {},
   "source": [
    "求x0=3,x1=4时，关于x1的偏导数"
   ]
  },
  {
   "cell_type": "code",
   "execution_count": 21,
   "id": "397d243f-5eef-477f-8c44-233c1ef9d9e6",
   "metadata": {},
   "outputs": [],
   "source": [
    "def function_tmp2(x1):\n",
    "    return 3.0**2.0 + x1*x1"
   ]
  },
  {
   "cell_type": "code",
   "execution_count": 22,
   "id": "e53591a4-8dfc-40aa-8dd5-58d602a8ebaa",
   "metadata": {},
   "outputs": [
    {
     "data": {
      "text/plain": [
       "7.999999999999119"
      ]
     },
     "execution_count": 22,
     "metadata": {},
     "output_type": "execute_result"
    }
   ],
   "source": [
    "numerical_diff(function_tmp2, 4)"
   ]
  },
  {
   "cell_type": "markdown",
   "id": "52a0111d-849e-4100-9af9-c781a4899d49",
   "metadata": {},
   "source": [
    "#### 梯度"
   ]
  },
  {
   "cell_type": "markdown",
   "id": "a8b38a76-18c6-4f3b-960f-69f552a3bfad",
   "metadata": {},
   "source": [
    "由全部变量的偏导数汇总而成的向量称为梯度。"
   ]
  },
  {
   "cell_type": "code",
   "execution_count": 23,
   "id": "b5d4961a-8c88-4018-8700-0cecebf276b7",
   "metadata": {},
   "outputs": [],
   "source": [
    "def numerical_gradient(f,x):\n",
    "    h = 1e-4\n",
    "    grad=np.zeros_like(x)\n",
    "    \n",
    "    for idx in range(x.size):\n",
    "        tmp_val = x[idx]\n",
    "        # f(x+h)的计算\n",
    "        x[idx]=tmp_val + h\n",
    "        fxh1=f(x)\n",
    "        # f(x-h)的计算\n",
    "        x[idx]=tmp_val - h\n",
    "        fxh2=f(x)\n",
    "        \n",
    "        grad[idx] = (fxh1 - fxh2) / (2 * h)\n",
    "        x[idx] = tmp_val\n",
    "    return grad"
   ]
  },
  {
   "cell_type": "code",
   "execution_count": 24,
   "id": "63b3ff3d-ebd2-4bb2-b17e-150fc47dde2f",
   "metadata": {},
   "outputs": [
    {
     "data": {
      "text/plain": [
       "array([6., 8.])"
      ]
     },
     "execution_count": 24,
     "metadata": {},
     "output_type": "execute_result"
    }
   ],
   "source": [
    "numerical_gradient(function_2, np.array([3.0, 4.0]))"
   ]
  },
  {
   "cell_type": "code",
   "execution_count": 25,
   "id": "17428f2f-99d9-45af-8c98-ffb23aa9a9ed",
   "metadata": {},
   "outputs": [
    {
     "data": {
      "text/plain": [
       "array([0., 4.])"
      ]
     },
     "execution_count": 25,
     "metadata": {},
     "output_type": "execute_result"
    }
   ],
   "source": [
    "numerical_gradient(function_2, np.array([0.0, 2.0]))"
   ]
  },
  {
   "cell_type": "code",
   "execution_count": 26,
   "id": "6d2fe4c4-c391-4dd5-93ef-4888bc41a0f2",
   "metadata": {},
   "outputs": [
    {
     "data": {
      "text/plain": [
       "array([6., 0.])"
      ]
     },
     "execution_count": 26,
     "metadata": {},
     "output_type": "execute_result"
    }
   ],
   "source": [
    "numerical_gradient(function_2, np.array([3.0, 0.0]))"
   ]
  },
  {
   "cell_type": "code",
   "execution_count": null,
   "id": "7b6e3891-9f23-46da-9940-c05a53efe99c",
   "metadata": {},
   "outputs": [],
   "source": []
  }
 ],
 "metadata": {
  "kernelspec": {
   "display_name": "Python 3 (ipykernel)",
   "language": "python",
   "name": "python3"
  },
  "language_info": {
   "codemirror_mode": {
    "name": "ipython",
    "version": 3
   },
   "file_extension": ".py",
   "mimetype": "text/x-python",
   "name": "python",
   "nbconvert_exporter": "python",
   "pygments_lexer": "ipython3",
   "version": "3.9.17"
  }
 },
 "nbformat": 4,
 "nbformat_minor": 5
}
