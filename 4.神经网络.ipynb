{
 "cells": [
  {
   "cell_type": "markdown",
   "id": "ba6ee797-146e-4d1d-b111-fc515157ce78",
   "metadata": {},
   "source": [
    "感知机设定权重的工作，即确定合适的、能符合预期的输入与输出的权重，是通过人工进行的"
   ]
  },
  {
   "cell_type": "markdown",
   "id": "8189a9c8-bd45-482b-9b5b-66c093b0b357",
   "metadata": {},
   "source": [
    "神经网络的出现就是为了解决该问题，神经网络的一个重要性质是它可以自动地从数据中学习到合适的权重参数。"
   ]
  },
  {
   "cell_type": "markdown",
   "id": "76ce9de1-97d1-4ebc-99b8-c903d9426e8e",
   "metadata": {},
   "source": [
    "### 一. 多维数组"
   ]
  },
  {
   "cell_type": "code",
   "execution_count": 1,
   "id": "087a76e3-d575-463f-b185-8039ffd295ea",
   "metadata": {},
   "outputs": [],
   "source": [
    "import numpy as np"
   ]
  },
  {
   "cell_type": "code",
   "execution_count": 3,
   "id": "02fe0d7b-f741-49d5-9b78-ea8a82f4d101",
   "metadata": {},
   "outputs": [
    {
     "data": {
      "text/plain": [
       "array([[2, 4],\n",
       "       [6, 8]])"
      ]
     },
     "execution_count": 3,
     "metadata": {},
     "output_type": "execute_result"
    }
   ],
   "source": [
    "a = np.array([[1,2], [3,4]])\n",
    "b = np.array([[2,2], [2,2]])\n",
    "# 逐位相乘\n",
    "c = a * b\n",
    "c"
   ]
  },
  {
   "cell_type": "code",
   "execution_count": 4,
   "id": "226c0110-fd68-41dd-af45-2aefb57c27bb",
   "metadata": {},
   "outputs": [
    {
     "data": {
      "text/plain": [
       "array([[ 6,  6],\n",
       "       [14, 14]])"
      ]
     },
     "execution_count": 4,
     "metadata": {},
     "output_type": "execute_result"
    }
   ],
   "source": [
    "# 点积\n",
    "d = np.dot(a, b)\n",
    "d"
   ]
  },
  {
   "cell_type": "markdown",
   "id": "8e62142b-0c7d-415c-b269-d0d5d40a1ece",
   "metadata": {},
   "source": [
    "### 二. 神经网络实现"
   ]
  },
  {
   "cell_type": "code",
   "execution_count": 10,
   "id": "c4cece51-6e89-4b67-988e-47b0e305a03f",
   "metadata": {},
   "outputs": [],
   "source": [
    "def sigmoid(x):\n",
    "    return 1 / (1 + np.exp(-x))"
   ]
  },
  {
   "cell_type": "code",
   "execution_count": 11,
   "id": "61011e65-3d6f-448c-b1a8-1bed7a8fc24f",
   "metadata": {},
   "outputs": [],
   "source": [
    "def softmax(a):\n",
    "    c = np.max(a)\n",
    "    exp_a = np.exp(a - c) # 溢出对策，减去输入中最大的值\n",
    "    sum_exp_a = np.sum(exp_a)\n",
    "    y = exp_a / sum_exp_a\n",
    "    return y"
   ]
  },
  {
   "cell_type": "markdown",
   "id": "05c301a0-b95b-4a2a-952d-1f5658f80ec9",
   "metadata": {},
   "source": [
    "#### 节点的加权和"
   ]
  },
  {
   "cell_type": "code",
   "execution_count": 6,
   "id": "eaaa38a7-d34a-4e86-8605-429b5ace123f",
   "metadata": {},
   "outputs": [
    {
     "name": "stdout",
     "output_type": "stream",
     "text": [
      "(2, 3)\n",
      "(2,)\n",
      "(3,)\n"
     ]
    }
   ],
   "source": [
    "X = np.array([1.0, 0.5])\n",
    "W1 = np.array([[0.1,0.3,0.5], [0.2,0.4,0.6]])\n",
    "B1 = np.array([0.1, 0.2, 0.3])\n",
    "\n",
    "print(W1.shape)\n",
    "print(X.shape)\n",
    "print(B1.shape)"
   ]
  },
  {
   "cell_type": "code",
   "execution_count": 8,
   "id": "e2548902-9dd6-4308-9308-c89f75a4d28c",
   "metadata": {},
   "outputs": [
    {
     "data": {
      "text/plain": [
       "array([0.3, 0.7, 1.1])"
      ]
     },
     "execution_count": 8,
     "metadata": {},
     "output_type": "execute_result"
    }
   ],
   "source": [
    "A1 = np.dot(X, W1) + B1\n",
    "A1"
   ]
  },
  {
   "cell_type": "markdown",
   "id": "7c96ca76-682d-4678-984f-246bba960424",
   "metadata": {},
   "source": [
    "#### 激活函数"
   ]
  },
  {
   "cell_type": "code",
   "execution_count": 10,
   "id": "71c95c29-7ed0-4eab-8ace-31ddeff5b268",
   "metadata": {},
   "outputs": [
    {
     "name": "stdout",
     "output_type": "stream",
     "text": [
      "[0.3 0.7 1.1]\n",
      "[0.57444252 0.66818777 0.75026011]\n"
     ]
    }
   ],
   "source": [
    "Z1 = sigmoid(A1)\n",
    "print(A1)\n",
    "print(Z1)"
   ]
  },
  {
   "cell_type": "code",
   "execution_count": 12,
   "id": "d0446efd-dbe1-4d53-9228-4582aaae3885",
   "metadata": {},
   "outputs": [],
   "source": [
    "def identity_function(x):\n",
    "    return x"
   ]
  },
  {
   "cell_type": "markdown",
   "id": "fb85055d-92e6-4dde-91e3-50728a1e2a27",
   "metadata": {},
   "source": [
    "#### 完整实现"
   ]
  },
  {
   "cell_type": "code",
   "execution_count": 11,
   "id": "cf433ddb-13a0-420f-bac6-1210e05d3580",
   "metadata": {},
   "outputs": [],
   "source": [
    "def init_network():\n",
    "    network={}\n",
    "    network['W1'] = np.array([[0.1,0.3,0.5],[0.2,0.4,0.6]])\n",
    "    network['b1'] = np.array([0.1,0.2,0.3])\n",
    "    network['W2'] = np.array([[0.1,0.4],[0.2,0.5],[0.3,0.6]])\n",
    "    network['b2'] = np.array([0.1,0.2])\n",
    "    network['W3'] = np.array([[0.1,0.3],[0.2,0.4]])\n",
    "    network['b3'] = np.array([0.1,0.2])\n",
    "    \n",
    "    return network"
   ]
  },
  {
   "cell_type": "code",
   "execution_count": 15,
   "id": "ce430eed-b536-4aa5-b190-bb6d28e4f12a",
   "metadata": {},
   "outputs": [],
   "source": [
    "def forward(network, x):\n",
    "    W1, W2, W3 = network['W1'], network['W2'], network['W3']\n",
    "    b1, b2, b3 = network['b1'], network['b2'], network['b3']\n",
    "    \n",
    "    a1 = np.dot(x, W1) + b1\n",
    "    z1 = sigmoid(a1)\n",
    "    a2 = np.dot(z1, W2) + b2\n",
    "    z2 = sigmoid(a2)\n",
    "    a3 = np.dot(z2, W3) + b3\n",
    "    y = identity_function(a3)\n",
    "    \n",
    "    return y"
   ]
  },
  {
   "cell_type": "code",
   "execution_count": 16,
   "id": "4eaa317e-bc02-4c74-95b7-fafc517e9735",
   "metadata": {},
   "outputs": [
    {
     "name": "stdout",
     "output_type": "stream",
     "text": [
      "[0.31682708 0.69627909]\n"
     ]
    }
   ],
   "source": [
    "network = init_network()\n",
    "x = np.array([1.0, 0.5])\n",
    "y = forward(network, x)\n",
    "print(y)"
   ]
  },
  {
   "cell_type": "markdown",
   "id": "19cfc4ed-471b-4685-ae69-d4aed1a8686b",
   "metadata": {},
   "source": [
    "### 三. 入门示例"
   ]
  },
  {
   "cell_type": "code",
   "execution_count": 1,
   "id": "a23a6676-2d5c-4056-80a6-30fc3d86fa1d",
   "metadata": {},
   "outputs": [],
   "source": [
    "from mnist import load_mnist  # 从mnist.py导入"
   ]
  },
  {
   "cell_type": "markdown",
   "id": "9adc1fda-eced-4e47-80d9-a62bf13984fc",
   "metadata": {},
   "source": [
    "#### 1. 读取数据"
   ]
  },
  {
   "cell_type": "code",
   "execution_count": 2,
   "id": "1c763047-6d81-48b3-9cea-686e7f361a91",
   "metadata": {},
   "outputs": [
    {
     "name": "stdout",
     "output_type": "stream",
     "text": [
      "/Users/shenjiayun/Documents/workspace/python/jupyter/深度学习入门/mnist/mnist.pkl\n",
      "/Users/shenjiayun/Documents/workspace/python/jupyter/深度学习入门/mnist/train-images-idx3-ubyte.gz\n",
      "Downloading train-images-idx3-ubyte.gz ... \n",
      "Done\n",
      "/Users/shenjiayun/Documents/workspace/python/jupyter/深度学习入门/mnist/train-labels-idx1-ubyte.gz\n",
      "Downloading train-labels-idx1-ubyte.gz ... \n",
      "Done\n",
      "/Users/shenjiayun/Documents/workspace/python/jupyter/深度学习入门/mnist/t10k-images-idx3-ubyte.gz\n",
      "Downloading t10k-images-idx3-ubyte.gz ... \n",
      "Done\n",
      "/Users/shenjiayun/Documents/workspace/python/jupyter/深度学习入门/mnist/t10k-labels-idx1-ubyte.gz\n",
      "Downloading t10k-labels-idx1-ubyte.gz ... \n",
      "Done\n",
      "Converting train-images-idx3-ubyte.gz to NumPy Array ...\n",
      "Done\n",
      "Converting train-labels-idx1-ubyte.gz to NumPy Array ...\n",
      "Done\n",
      "Converting t10k-images-idx3-ubyte.gz to NumPy Array ...\n",
      "Done\n",
      "Converting t10k-labels-idx1-ubyte.gz to NumPy Array ...\n",
      "Done\n",
      "Creating pickle file ...\n",
      "Done!\n"
     ]
    }
   ],
   "source": [
    "(x_train, t_train), (x_test, t_test) = load_mnist(flatten=True, normalize=False)"
   ]
  },
  {
   "cell_type": "code",
   "execution_count": 3,
   "id": "89fb6423-2d39-487b-8a5f-7d08b7f95b92",
   "metadata": {},
   "outputs": [
    {
     "name": "stdout",
     "output_type": "stream",
     "text": [
      "(60000, 784)\n",
      "(60000,)\n",
      "(10000, 784)\n",
      "(10000,)\n"
     ]
    }
   ],
   "source": [
    "print(x_train.shape)\n",
    "print(t_train.shape)\n",
    "print(x_test.shape)\n",
    "print(t_test.shape)"
   ]
  },
  {
   "cell_type": "markdown",
   "id": "46416c77-0657-4bc9-9da8-f72f9aa494e8",
   "metadata": {},
   "source": [
    "#### 2. 展示图片"
   ]
  },
  {
   "cell_type": "code",
   "execution_count": 4,
   "id": "14eb97f2-728a-464f-94ec-e2db458f4ee8",
   "metadata": {},
   "outputs": [],
   "source": [
    "import numpy as np\n",
    "from PIL import Image"
   ]
  },
  {
   "cell_type": "code",
   "execution_count": 5,
   "id": "6567daff-9e6a-44ac-a018-4c9066ff58ec",
   "metadata": {},
   "outputs": [],
   "source": [
    "def img_show(img):\n",
    "    pil_img = Image.fromarray(np.uint8(img))\n",
    "    pil_img.show()"
   ]
  },
  {
   "cell_type": "code",
   "execution_count": 6,
   "id": "f055896e-9365-455f-827d-29fc7d5a104c",
   "metadata": {},
   "outputs": [
    {
     "name": "stdout",
     "output_type": "stream",
     "text": [
      "5\n",
      "(784,)\n",
      "(28, 28)\n"
     ]
    }
   ],
   "source": [
    "img = x_train[0]\n",
    "label = t_train[0]\n",
    "print(label)\n",
    "\n",
    "print(img.shape)\n",
    "img = img.reshape(28,28) # 把图像的形状变成原来的尺寸，因为读取时将其转成一维数组\n",
    "print(img.shape)\n",
    "\n",
    "img_show(img)"
   ]
  },
  {
   "cell_type": "markdown",
   "id": "18867548-e838-42fa-8e21-36a91e3c1dbd",
   "metadata": {},
   "source": [
    "#### 3. 神经网络的推理"
   ]
  },
  {
   "cell_type": "code",
   "execution_count": 16,
   "id": "80f47d54-a62c-4b33-b13f-adbfca3c5b0d",
   "metadata": {},
   "outputs": [],
   "source": [
    "import pickle"
   ]
  },
  {
   "cell_type": "code",
   "execution_count": 7,
   "id": "865310ae-182a-416a-8397-79b5e300a4dd",
   "metadata": {},
   "outputs": [],
   "source": [
    "def get_data():\n",
    "    (x_train, t_train), (x_test, t_test) = load_mnist(flatten=True, normalize=True, one_hot_label=False)\n",
    "    return x_test, t_test"
   ]
  },
  {
   "cell_type": "code",
   "execution_count": 14,
   "id": "5ae596d7-4446-454f-a9b7-c87dcde38ad4",
   "metadata": {},
   "outputs": [],
   "source": [
    "def init_network():\n",
    "    # 加载已经训练过的模型\n",
    "    with open(\"./mnist/sample_weight.pkl\", \"rb\") as f:\n",
    "        network = pickle.load(f)\n",
    "    return network"
   ]
  },
  {
   "cell_type": "code",
   "execution_count": 9,
   "id": "a0ffb2de-1cee-49c5-93f3-256aec89b6b5",
   "metadata": {},
   "outputs": [],
   "source": [
    "def predict(network, x):\n",
    "    W1, W2, W3 = network['W1'],network['W2'],network['W3']\n",
    "    b1, b2, b3 = network['b1'],network['b2'],network['b3']\n",
    "    \n",
    "    a1 = np.dot(x, W1) + b1\n",
    "    z1 = sigmoid(a1)\n",
    "    a2 = np.dot(z1, W2) + b2\n",
    "    z2 = sigmoid(a2)\n",
    "    a3 = np.dot(z2, W3) + b3\n",
    "    y = softmax(a3)\n",
    "    \n",
    "    return y"
   ]
  },
  {
   "cell_type": "code",
   "execution_count": 17,
   "id": "446e113c-3d48-40f2-b4f5-ce14f86b0b41",
   "metadata": {},
   "outputs": [
    {
     "name": "stdout",
     "output_type": "stream",
     "text": [
      "/Users/shenjiayun/Documents/workspace/python/jupyter/深度学习入门/mnist/mnist.pkl\n",
      "Accuracy:0.9352\n"
     ]
    }
   ],
   "source": [
    "x, t = get_data()\n",
    "network = init_network()\n",
    "\n",
    "accuracy_cnt = 0\n",
    "for i in range(len(x)):\n",
    "    y = predict(network, x[i])\n",
    "    p = np.argmax(y) # 获取概率最高的元素的索引\n",
    "    if p == t[i]:\n",
    "        accuracy_cnt += 1\n",
    "\n",
    "print(\"Accuracy:\" + str(float(accuracy_cnt)/ len(x)))"
   ]
  },
  {
   "cell_type": "code",
   "execution_count": 18,
   "id": "31cdcc86-de42-4e3c-acac-2132b43b2007",
   "metadata": {},
   "outputs": [
    {
     "name": "stdout",
     "output_type": "stream",
     "text": [
      "/Users/shenjiayun/Documents/workspace/python/jupyter/深度学习入门/mnist/mnist.pkl\n",
      "Accuracy:0.9352\n"
     ]
    }
   ],
   "source": [
    "# 批量处理\n",
    "x, t = get_data()\n",
    "network = init_network()\n",
    "\n",
    "batch_size = 100 # 批数量\n",
    "accuracy_cnt = 0\n",
    "\n",
    "for i in range(0, len(x), batch_size):\n",
    "    x_batch = x[i:i+batch_size]\n",
    "    y_batch = predict(network, x_batch)\n",
    "    p = np.argmax(y_batch, axis = 1)\n",
    "    accuracy_cnt += np.sum(p == t[i:i+batch_size])\n",
    "print(\"Accuracy:\" + str(float(accuracy_cnt)/ len(x)))"
   ]
  }
 ],
 "metadata": {
  "kernelspec": {
   "display_name": "Python 3 (ipykernel)",
   "language": "python",
   "name": "python3"
  },
  "language_info": {
   "codemirror_mode": {
    "name": "ipython",
    "version": 3
   },
   "file_extension": ".py",
   "mimetype": "text/x-python",
   "name": "python",
   "nbconvert_exporter": "python",
   "pygments_lexer": "ipython3",
   "version": "3.9.17"
  }
 },
 "nbformat": 4,
 "nbformat_minor": 5
}
