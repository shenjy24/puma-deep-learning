{
 "cells": [
  {
   "cell_type": "code",
   "execution_count": 6,
   "id": "df83b47a-8b78-47af-96ae-a5b510d1f8e6",
   "metadata": {},
   "outputs": [],
   "source": [
    "import numpy as np"
   ]
  },
  {
   "cell_type": "code",
   "execution_count": 7,
   "id": "e555ce8d-8103-4be4-80b5-6cdd7e6feaba",
   "metadata": {},
   "outputs": [],
   "source": [
    "# 使用权重和偏重实现的与门\n",
    "def AND(x1, x2):\n",
    "    X = np.array([x1, x2])\n",
    "    W = np.array([0.5, 0.5])\n",
    "    b = -0.7\n",
    "    tmp = np.sum(W*X) + b\n",
    "    if tmp <= 0:\n",
    "        return 0\n",
    "    else:\n",
    "        return 1"
   ]
  },
  {
   "cell_type": "code",
   "execution_count": 8,
   "id": "1524c147-a27b-4adf-a017-aded3119174a",
   "metadata": {},
   "outputs": [],
   "source": [
    "# 与非门\n",
    "def NAND(x1, x2):\n",
    "    X = np.array([x1, x2])\n",
    "    W = np.array([-0.5, -0.5]) # 仅权重和偏置与AND不同\n",
    "    b = 0.7\n",
    "    tmp = np.sum(W*X) + b\n",
    "    if tmp <= 0:\n",
    "        return 0\n",
    "    else:\n",
    "        return 1"
   ]
  },
  {
   "cell_type": "code",
   "execution_count": 9,
   "id": "3459be36-c438-40a3-8a61-a4be0dcd5330",
   "metadata": {},
   "outputs": [],
   "source": [
    "# 或门\n",
    "def OR(x1, x2):\n",
    "    X = np.array([x1, x2])\n",
    "    W = np.array([0.5, 0.5]) # 仅权重和偏置与AND不同\n",
    "    b = -0.2\n",
    "    tmp = np.sum(W*X) + b\n",
    "    if tmp <= 0:\n",
    "        return 0\n",
    "    else:\n",
    "        return 1"
   ]
  },
  {
   "cell_type": "markdown",
   "id": "721b4479-a6ce-4820-8be4-bfbe32954797",
   "metadata": {},
   "source": [
    "单层感知机无法分离非线性空间，通过组合感知机（叠加层）就可以实现异或门。\n",
    "异或门的制作方法之一就是组装与门、与非门和或门"
   ]
  },
  {
   "cell_type": "code",
   "execution_count": 10,
   "id": "e36baa11-3a45-4b95-9b35-79e92f78820e",
   "metadata": {},
   "outputs": [],
   "source": [
    "def XOR(x1, x2):\n",
    "    s1 = NAND(x1, x2)\n",
    "    s2 = OR(x1, x2)\n",
    "    y = AND(s1, s2)\n",
    "    return y"
   ]
  },
  {
   "cell_type": "code",
   "execution_count": 11,
   "id": "9bcf5b2e-251e-4478-9dff-d46b5218e41e",
   "metadata": {},
   "outputs": [
    {
     "name": "stdout",
     "output_type": "stream",
     "text": [
      "0\n",
      "1\n",
      "1\n",
      "0\n"
     ]
    }
   ],
   "source": [
    "print(XOR(0, 0))\n",
    "print(XOR(1, 0))\n",
    "print(XOR(0, 1))\n",
    "print(XOR(1, 1))"
   ]
  },
  {
   "cell_type": "markdown",
   "id": "2d50be70-0296-46da-acd5-92c2dbe24625",
   "metadata": {},
   "source": [
    "激活函数是用来非线性的sigmoid函数的感知机，可以表示任意函数。"
   ]
  },
  {
   "cell_type": "markdown",
   "id": "f1a1d322-30cd-444e-a715-41f1d0309910",
   "metadata": {},
   "source": [
    "单层感知机只能表示线性空间，而多层感知机可以表示非线性空间。"
   ]
  }
 ],
 "metadata": {
  "kernelspec": {
   "display_name": "Python 3 (ipykernel)",
   "language": "python",
   "name": "python3"
  },
  "language_info": {
   "codemirror_mode": {
    "name": "ipython",
    "version": 3
   },
   "file_extension": ".py",
   "mimetype": "text/x-python",
   "name": "python",
   "nbconvert_exporter": "python",
   "pygments_lexer": "ipython3",
   "version": "3.9.17"
  }
 },
 "nbformat": 4,
 "nbformat_minor": 5
}
