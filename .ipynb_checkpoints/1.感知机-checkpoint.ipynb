{
 "cells": [
  {
   "cell_type": "code",
   "execution_count": 1,
   "id": "e91fa58a-db34-4fbf-8809-2eae9f4b839d",
   "metadata": {},
   "outputs": [],
   "source": [
    "def AND(x1, x2):\n",
    "    w1, w2, theta = 0.5, 0.5, 0.7\n",
    "    tmp = x1*w1 + x2*w2\n",
    "    if tmp <= theta:\n",
    "        return 0\n",
    "    elif tmp > theta:\n",
    "        return 1"
   ]
  },
  {
   "cell_type": "code",
   "execution_count": 3,
   "id": "f3dc048e-3fc2-417c-9ad3-a4d4664e03f5",
   "metadata": {},
   "outputs": [
    {
     "name": "stdout",
     "output_type": "stream",
     "text": [
      "0\n",
      "0\n",
      "0\n",
      "1\n"
     ]
    }
   ],
   "source": [
    "print(AND(0, 0))\n",
    "print(AND(1, 0))\n",
    "print(AND(0, 1))\n",
    "print(AND(1, 1))"
   ]
  },
  {
   "cell_type": "code",
   "execution_count": 4,
   "id": "60e7bdaf-194b-4156-900e-09626b797dfb",
   "metadata": {},
   "outputs": [
    {
     "data": {
      "text/plain": [
       "array([0. , 0.5])"
      ]
     },
     "execution_count": 4,
     "metadata": {},
     "output_type": "execute_result"
    }
   ],
   "source": [
    "import numpy as np\n",
    "X = np.array([0, 1]) # 输入\n",
    "W = np.array([0.5, 0.5]) # 权重\n",
    "b = -0.7 # 偏置\n",
    "W*X"
   ]
  },
  {
   "cell_type": "code",
   "execution_count": 5,
   "id": "144e5b3e-e71c-4dc5-8883-fca9c0f8b960",
   "metadata": {},
   "outputs": [
    {
     "data": {
      "text/plain": [
       "0.5"
      ]
     },
     "execution_count": 5,
     "metadata": {},
     "output_type": "execute_result"
    }
   ],
   "source": [
    "np.sum(W*X)"
   ]
  },
  {
   "cell_type": "code",
   "execution_count": 6,
   "id": "f47bb93e-65ac-44d4-be8a-c94ba000aa46",
   "metadata": {},
   "outputs": [
    {
     "data": {
      "text/plain": [
       "-0.19999999999999996"
      ]
     },
     "execution_count": 6,
     "metadata": {},
     "output_type": "execute_result"
    }
   ],
   "source": [
    "np.sum(W*X) + b"
   ]
  },
  {
   "cell_type": "code",
   "execution_count": null,
   "id": "3ce9b722-58c4-4dab-a97d-b85857503de1",
   "metadata": {},
   "outputs": [],
   "source": [
    "# 使用权重和偏重实现的与门\n",
    "def AND(x1, x2):\n",
    "    X = np.array([x1, x2])\n",
    "    W = np.array([0.5, 0.5])\n",
    "    b = -0.7\n",
    "    tmp = np.sum(W*X) + b\n",
    "    if tmp <= 0:\n",
    "        return 0\n",
    "    else:\n",
    "        return 1"
   ]
  },
  {
   "cell_type": "markdown",
   "id": "b34ec592-ed05-4d13-99f1-1de8aff71c6a",
   "metadata": {},
   "source": [
    "w1和w2是控制输入信号的重要性的参数。\n",
    "偏置是调整神经元被激活的容易程度（输出信号为1的程度）的参数。"
   ]
  },
  {
   "cell_type": "code",
   "execution_count": 7,
   "id": "794aa0e5-3e6c-426e-9439-d3a2ce5db267",
   "metadata": {},
   "outputs": [],
   "source": [
    "# 与非门\n",
    "def NAND(x1, x2):\n",
    "    X = np.array([x1, x2])\n",
    "    W = np.array([-0.5, -0.5]) # 仅权重和偏置与AND不同\n",
    "    b = 0.7\n",
    "    tmp = np.sum(W*X) + b\n",
    "    if tmp <= 0:\n",
    "        return 0\n",
    "    else:\n",
    "        return 1"
   ]
  },
  {
   "cell_type": "code",
   "execution_count": 9,
   "id": "02ce2ab8-705a-4680-bc13-35024aee1237",
   "metadata": {},
   "outputs": [],
   "source": [
    "# 或门\n",
    "def OR(x1, x2):\n",
    "    X = np.array([x1, x2])\n",
    "    W = np.array([0.5, 0.5]) # 仅权重和偏置与AND不同\n",
    "    b = -0.2\n",
    "    tmp = np.sum(W*X) + b\n",
    "    if tmp <= 0:\n",
    "        return 0\n",
    "    else:\n",
    "        return 1"
   ]
  },
  {
   "cell_type": "markdown",
   "id": "90ab790f-0b1d-4e79-9a28-2a0750705b25",
   "metadata": {},
   "source": [
    "感知机无法实现异或门，因为无法使用一条直线将数据分开。\n",
    "感知机的局限性就在于它只能表示由一条直线分割的空间。"
   ]
  },
  {
   "cell_type": "code",
   "execution_count": null,
   "id": "4b89ae86-cf93-4b0d-bcf5-8dc023e7c17b",
   "metadata": {},
   "outputs": [],
   "source": []
  }
 ],
 "metadata": {
  "kernelspec": {
   "display_name": "Python 3 (ipykernel)",
   "language": "python",
   "name": "python3"
  },
  "language_info": {
   "codemirror_mode": {
    "name": "ipython",
    "version": 3
   },
   "file_extension": ".py",
   "mimetype": "text/x-python",
   "name": "python",
   "nbconvert_exporter": "python",
   "pygments_lexer": "ipython3",
   "version": "3.9.17"
  }
 },
 "nbformat": 4,
 "nbformat_minor": 5
}
